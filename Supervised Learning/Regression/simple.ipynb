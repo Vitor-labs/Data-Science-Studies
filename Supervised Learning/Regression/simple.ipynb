{
 "cells": [
  {
   "cell_type": "code",
   "execution_count": null,
   "metadata": {},
   "outputs": [],
   "source": [
    "import pandas as pd\n",
    "import numpy as np\n",
    "import matplotlib.pyplot as plt\n",
    "import statsmodels.api as sm\n",
    "from sklearn.linear_model import LinearRegression"
   ]
  },
  {
   "cell_type": "code",
   "execution_count": null,
   "metadata": {},
   "outputs": [],
   "source": [
    "data = pd.read_csv('data.csv',index_col=0)\n",
    "data.head()"
   ]
  },
  {
   "cell_type": "code",
   "execution_count": null,
   "metadata": {},
   "outputs": [],
   "source": [
    "plt.figure(figsize=(16,8))\n",
    "plt.scatter(data['TV'], data['sales'], c='black')\n",
    "plt.xlabel('Money spent on TV ads ($)')\n",
    "plt.ylabel('Sales made on these ads (k$)')\n",
    "plt.show()"
   ]
  },
  {
   "cell_type": "code",
   "execution_count": null,
   "metadata": {},
   "outputs": [],
   "source": [
    "X = data['TV'].values.reshape(-1,1)\n",
    "Y = data['sales'].values.reshape(-1,1)\n",
    "reg = LinearRegression()\n",
    "reg.fit(X, Y)\n",
    "print(f'Y = {reg.intercept_[0]} + {reg.coef_[0][0]}')"
   ]
  },
  {
   "cell_type": "code",
   "execution_count": null,
   "metadata": {},
   "outputs": [],
   "source": [
    "pred = reg.predict(X)\n",
    "plt.figure(figsize=(16,8))\n",
    "plt.scatter(X, Y, c='black')\n",
    "plt.xlabel('Money spent on TV ads ($)')\n",
    "plt.ylabel('Sales made on these ads (k$)')\n",
    "plt.plot(X, pred, c='blue', linewidth=2)"
   ]
  },
  {
   "cell_type": "code",
   "execution_count": null,
   "metadata": {},
   "outputs": [],
   "source": [
    "X = data['TV']\n",
    "Y = data['sales']\n",
    "exog = sm.add_constant(X)\n",
    "ols = sm.OLS(Y, exog) # ordinary least squares\n",
    "est = ols.fit()\n",
    "\n",
    "print(est.summary())"
   ]
  }
 ],
 "metadata": {
  "kernelspec": {
   "display_name": "env",
   "language": "python",
   "name": "python3"
  },
  "language_info": {
   "codemirror_mode": {
    "name": "ipython",
    "version": 3
   },
   "file_extension": ".py",
   "mimetype": "text/x-python",
   "name": "python",
   "nbconvert_exporter": "python",
   "pygments_lexer": "ipython3",
   "version": "3.10.4 | packaged by conda-forge | (main, Mar 30 2022, 08:38:02) [MSC v.1916 64 bit (AMD64)]"
  },
  "orig_nbformat": 4,
  "vscode": {
   "interpreter": {
    "hash": "cb9c02bf58191defec3451b82afcb82bc4036187a304ee1bac7122b07deb8828"
   }
  }
 },
 "nbformat": 4,
 "nbformat_minor": 2
}
