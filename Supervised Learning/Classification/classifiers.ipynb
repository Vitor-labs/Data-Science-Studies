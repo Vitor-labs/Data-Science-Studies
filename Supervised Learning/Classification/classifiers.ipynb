{
 "cells": [
  {
   "cell_type": "code",
   "execution_count": 1,
   "metadata": {},
   "outputs": [
    {
     "name": "stderr",
     "output_type": "stream",
     "text": [
      "c:\\Users\\Computador\\anaconda3\\lib\\site-packages\\scipy\\__init__.py:138: UserWarning: A NumPy version >=1.16.5 and <1.23.0 is required for this version of SciPy (detected version 1.24.1)\n",
      "  warnings.warn(f\"A NumPy version >={np_minversion} and <{np_maxversion} is required for this version of \"\n"
     ]
    }
   ],
   "source": [
    "import pandas as pd\n",
    "from sklearn.model_selection import train_test_split\n",
    "from sklearn.metrics import accuracy_score, confusion_matrix\n",
    "from sklearn import svm\n",
    "from sklearn.tree import DecisionTreeClassifier\n",
    "from sklearn.naive_bayes import GaussianNB\n",
    "from sklearn.neighbors import KNeighborsClassifier"
   ]
  },
  {
   "cell_type": "code",
   "execution_count": 2,
   "metadata": {},
   "outputs": [],
   "source": [
    "columns = ['sepal-length', 'sepal-width', 'petal-length', 'petal-width', 'class']\n",
    "iris = pd.read_csv(\"../../Datasets/iris.data\", names=columns)\n",
    "\n",
    "data = iris.values\n",
    "X = data[:,0:4]\n",
    "y = data[:,4]\n",
    "\n",
    "# splitting X and y into training and testing sets\n",
    "X_train, X_test, y_train, y_test = train_test_split(\n",
    "\tX, y, test_size=0.3, random_state=1)"
   ]
  },
  {
   "cell_type": "code",
   "execution_count": 3,
   "metadata": {},
   "outputs": [
    {
     "name": "stdout",
     "output_type": "stream",
     "text": [
      "Accuracy of Gaussian Naive Bayes:  0.9333333333333333\n",
      "Confusion Matrix of Gaussian Naive Bayes:  [[14  0  0]\n",
      " [ 0 16  2]\n",
      " [ 0  1 12]]\n"
     ]
    }
   ],
   "source": [
    "# GAUSSIAN NAIVE BAYES\n",
    "gnb = GaussianNB()\n",
    "# train the model\n",
    "gnb.fit(X_train, y_train)\n",
    "# make predictions\n",
    "gnb_pred = gnb.predict(X_test)\n",
    "# print the accuracy\n",
    "print(\"Accuracy of Gaussian Naive Bayes: \", accuracy_score(y_test, gnb_pred))\n",
    "# creating a confusion matrix\n",
    "print(\"Confusion Matrix of Gaussian Naive Bayes: \", confusion_matrix(y_test, gnb_pred))\n",
    " "
   ]
  },
  {
   "cell_type": "code",
   "execution_count": 4,
   "metadata": {},
   "outputs": [
    {
     "name": "stdout",
     "output_type": "stream",
     "text": [
      "Accuracy of K Nearest Neighbors:  0.9333333333333333\n",
      "Confusion Matrix of K Nearest Neighbors:  [[14  0  0]\n",
      " [ 0 16  2]\n",
      " [ 0  1 12]]\n"
     ]
    }
   ],
   "source": [
    "# K Nearest Neighbors\n",
    "knn = KNeighborsClassifier()\n",
    "# train the model\n",
    "knn.fit(X_train, y_train)\n",
    "# make predictions\n",
    "accuracy = knn.predict(X_test)\n",
    "# print the accuracy\n",
    "print(\"Accuracy of K Nearest Neighbors: \", accuracy_score(y_test, gnb_pred))\n",
    "# creating a confusion matrix\n",
    "print(\"Confusion Matrix of K Nearest Neighbors: \", confusion_matrix(y_test, gnb_pred))"
   ]
  },
  {
   "cell_type": "code",
   "execution_count": 5,
   "metadata": {},
   "outputs": [
    {
     "name": "stdout",
     "output_type": "stream",
     "text": [
      "Accuracy of Support Vector Machine:  1.0\n",
      "Confusion Matrix of Support Vector Machine:  [[14  0  0]\n",
      " [ 0 18  0]\n",
      " [ 0  0 13]]\n"
     ]
    }
   ],
   "source": [
    "# SUPPORT VECTOR MACHINE\n",
    "svm_clf = svm.SVC(kernel='linear') # Linear Kernel\n",
    "# train the model\n",
    "svm_clf.fit(X_train, y_train)\n",
    "# make predictions\n",
    "svm_clf_pred = svm_clf.predict(X_test)\n",
    "# print the accuracy\n",
    "print(\"Accuracy of Support Vector Machine: \",accuracy_score(y_test, svm_clf_pred))\n",
    "# creating a confusion matrix\n",
    "print(\"Confusion Matrix of Support Vector Machine: \", confusion_matrix(y_test, svm_clf_pred))"
   ]
  },
  {
   "cell_type": "code",
   "execution_count": 6,
   "metadata": {},
   "outputs": [
    {
     "name": "stdout",
     "output_type": "stream",
     "text": [
      "Accuracy of Decision Tree Classifier:  0.9555555555555556\n",
      "Confusion Matrix of Decision Tree Classifier:  [[14  0  0]\n",
      " [ 0 17  1]\n",
      " [ 0  1 12]]\n"
     ]
    }
   ],
   "source": [
    "# DECISION TREE CLASSIFIER\n",
    "dt = DecisionTreeClassifier(random_state=0)\n",
    "# train the model\n",
    "dt.fit(X_train, y_train)\n",
    "# make predictions\n",
    "dt_pred = dt.predict(X_test)\n",
    "# print the accuracy\n",
    "print(\"Accuracy of Decision Tree Classifier: \", accuracy_score(y_test, dt_pred))\n",
    "# creating a confusion matrix\n",
    "print(\"Confusion Matrix of Decision Tree Classifier: \", confusion_matrix(y_test, dt_pred))"
   ]
  }
 ],
 "metadata": {
  "kernelspec": {
   "display_name": "base",
   "language": "python",
   "name": "python3"
  },
  "language_info": {
   "codemirror_mode": {
    "name": "ipython",
    "version": 3
   },
   "file_extension": ".py",
   "mimetype": "text/x-python",
   "name": "python",
   "nbconvert_exporter": "python",
   "pygments_lexer": "ipython3",
   "version": "3.8.8"
  },
  "orig_nbformat": 4,
  "vscode": {
   "interpreter": {
    "hash": "52887cc3a42a229926addc8d7f2402c14a048e58ac5314cfc189b4736d6dae71"
   }
  }
 },
 "nbformat": 4,
 "nbformat_minor": 2
}
