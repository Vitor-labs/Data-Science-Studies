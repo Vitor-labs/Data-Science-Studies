{
 "cells": [
  {
   "cell_type": "code",
   "execution_count": 50,
   "metadata": {},
   "outputs": [],
   "source": [
    "import os\n",
    "import pandas as pd\n",
    "\n",
    "from itertools import combinations\n",
    "from collections import Counter\n",
    "\n",
    "folder_path = '../../Datasets/Sales'\n",
    "dataset_files = [f for f in os.listdir(folder_path) if f.endswith('.csv')]"
   ]
  },
  {
   "cell_type": "code",
   "execution_count": null,
   "metadata": {},
   "outputs": [],
   "source": [
    "merged_data = pd.DataFrame()\n",
    "\n",
    "for file in dataset_files:\n",
    "    file_path = os.path.join(folder_path, file)\n",
    "    df = pd.read_csv(file_path)\n",
    "    merged_data = pd.concat([merged_data, df], ignore_index=True)\n",
    "\n",
    "merged_data.to_csv('merged_dataset.csv', index=False)\n",
    "merged_data.head()"
   ]
  },
  {
   "cell_type": "markdown",
   "metadata": {},
   "source": [
    "### Adding a Month column to see seasonality and check the best month for sales"
   ]
  },
  {
   "cell_type": "code",
   "execution_count": 3,
   "metadata": {},
   "outputs": [],
   "source": [
    "merged_data = merged_data[merged_data['Order Date'] != 'Order Date']\n",
    "merged_data['Order Date'] = pd.to_datetime(merged_data['Order Date'], format='%m/%d/%y %H:%M')"
   ]
  },
  {
   "cell_type": "code",
   "execution_count": 5,
   "metadata": {},
   "outputs": [],
   "source": [
    "if merged_data['Order Date'].isna().any():\n",
    "    all_columns_nan = merged_data[merged_data['Order Date'].isna()].isna().all(axis=1)\n",
    "    merged_data = merged_data[~(merged_data['Order Date'].isna() & all_columns_nan)]\n",
    "\n",
    "merged_data['Order Date'] = merged_data['Order Date'].fillna(method='ffill').fillna(method='bfill')\n",
    "#merged_data['Month'] = merged_data['Order Date'].str[0:2].astype('int16')\n",
    "merged_data['Month'] = merged_data['Order Date'].dt.strftime('%B')"
   ]
  },
  {
   "cell_type": "markdown",
   "metadata": {},
   "source": [
    "### Adding a Sales column"
   ]
  },
  {
   "cell_type": "code",
   "execution_count": null,
   "metadata": {},
   "outputs": [],
   "source": [
    "merged_data['Quantity Ordered'] = merged_data['Quantity Ordered'].astype('int16')\n",
    "merged_data['Price Each'] = pd.to_numeric(merged_data['Price Each'])\n",
    "merged_data['Sale Value'] = merged_data['Quantity Ordered'] * merged_data['Price Each']"
   ]
  },
  {
   "cell_type": "markdown",
   "metadata": {},
   "source": [
    "### Adding a City column and Hour of sale column"
   ]
  },
  {
   "cell_type": "code",
   "execution_count": 43,
   "metadata": {},
   "outputs": [],
   "source": [
    "merged_data['City'] = merged_data['Purchase Address'].apply(lambda x: x.split(',')[1] + ' ' + x.split(',')[2].split(' ')[1])\n",
    "merged_data['Hour of Sale'] = merged_data['Order Date'].dt.strftime('%H:%M')"
   ]
  },
  {
   "cell_type": "markdown",
   "metadata": {},
   "source": [
    "### Grouping most sold products"
   ]
  },
  {
   "cell_type": "code",
   "execution_count": 49,
   "metadata": {},
   "outputs": [
    {
     "name": "stderr",
     "output_type": "stream",
     "text": [
      "/tmp/ipykernel_231510/2688769586.py:2: SettingWithCopyWarning: \n",
      "A value is trying to be set on a copy of a slice from a DataFrame.\n",
      "Try using .loc[row_indexer,col_indexer] = value instead\n",
      "\n",
      "See the caveats in the documentation: https://pandas.pydata.org/pandas-docs/stable/user_guide/indexing.html#returning-a-view-versus-a-copy\n",
      "  products.loc[:, 'Grouped'] = products.groupby('Order ID')['Product'].transform(lambda x: ','.join(x))\n"
     ]
    },
    {
     "data": {
      "text/html": [
       "<div>\n",
       "<style scoped>\n",
       "    .dataframe tbody tr th:only-of-type {\n",
       "        vertical-align: middle;\n",
       "    }\n",
       "\n",
       "    .dataframe tbody tr th {\n",
       "        vertical-align: top;\n",
       "    }\n",
       "\n",
       "    .dataframe thead th {\n",
       "        text-align: right;\n",
       "    }\n",
       "</style>\n",
       "<table border=\"1\" class=\"dataframe\">\n",
       "  <thead>\n",
       "    <tr style=\"text-align: right;\">\n",
       "      <th></th>\n",
       "      <th>Order ID</th>\n",
       "      <th>Grouped</th>\n",
       "    </tr>\n",
       "  </thead>\n",
       "  <tbody>\n",
       "    <tr>\n",
       "      <th>62</th>\n",
       "      <td>259420</td>\n",
       "      <td>Google Phone,USB-C Charging Cable</td>\n",
       "    </tr>\n",
       "    <tr>\n",
       "      <th>65</th>\n",
       "      <td>259422</td>\n",
       "      <td>Google Phone,USB-C Charging Cable</td>\n",
       "    </tr>\n",
       "    <tr>\n",
       "      <th>82</th>\n",
       "      <td>259438</td>\n",
       "      <td>iPhone,Lightning Charging Cable</td>\n",
       "    </tr>\n",
       "    <tr>\n",
       "      <th>103</th>\n",
       "      <td>259458</td>\n",
       "      <td>34in Ultrawide Monitor,ThinkPad Laptop</td>\n",
       "    </tr>\n",
       "    <tr>\n",
       "      <th>123</th>\n",
       "      <td>259477</td>\n",
       "      <td>LG Dryer,AAA Batteries (4-pack)</td>\n",
       "    </tr>\n",
       "  </tbody>\n",
       "</table>\n",
       "</div>"
      ],
      "text/plain": [
       "    Order ID                                 Grouped\n",
       "62    259420       Google Phone,USB-C Charging Cable\n",
       "65    259422       Google Phone,USB-C Charging Cable\n",
       "82    259438         iPhone,Lightning Charging Cable\n",
       "103   259458  34in Ultrawide Monitor,ThinkPad Laptop\n",
       "123   259477         LG Dryer,AAA Batteries (4-pack)"
      ]
     },
     "execution_count": 49,
     "metadata": {},
     "output_type": "execute_result"
    }
   ],
   "source": [
    "products = merged_data[merged_data['Order ID'].duplicated(keep=False)]\n",
    "products.loc[:, 'Grouped'] = products.groupby('Order ID')['Product'].transform(lambda x: ','.join(x))\n",
    "products = products[['Order ID', 'Grouped']].drop_duplicates()\n",
    "products.head()"
   ]
  },
  {
   "cell_type": "code",
   "execution_count": 51,
   "metadata": {},
   "outputs": [
    {
     "name": "stdout",
     "output_type": "stream",
     "text": [
      "('iPhone', 'Lightning Charging Cable'): 1005\n",
      "('Google Phone', 'USB-C Charging Cable'): 987\n",
      "('iPhone', 'Wired Headphones'): 447\n",
      "('Google Phone', 'Wired Headphones'): 414\n",
      "('Vareebadd Phone', 'USB-C Charging Cable'): 361\n",
      "('iPhone', 'Apple Airpods Headphones'): 360\n",
      "('Google Phone', 'Bose SoundSport Headphones'): 220\n",
      "('USB-C Charging Cable', 'Wired Headphones'): 160\n",
      "('Vareebadd Phone', 'Wired Headphones'): 143\n",
      "('Lightning Charging Cable', 'Wired Headphones'): 92\n"
     ]
    }
   ],
   "source": [
    "count = Counter()\n",
    "\n",
    "for _ in products['Grouped']:\n",
    "    row = _.split(',')\n",
    "    count.update(Counter(combinations(row, 2)))\n",
    "\n",
    "for k, v in count.most_common(10):\n",
    "    print(f'{k}: {v}')"
   ]
  },
  {
   "cell_type": "code",
   "execution_count": 57,
   "metadata": {},
   "outputs": [
    {
     "data": {
      "text/plain": [
       "'AAA Batteries (4-pack)'"
      ]
     },
     "execution_count": 57,
     "metadata": {},
     "output_type": "execute_result"
    }
   ],
   "source": [
    "prods = merged_data.groupby('Product')\n",
    "qtd_ord = prods['Quantity Ordered'].sum()\n",
    "qtd_ord.idxmax()"
   ]
  },
  {
   "cell_type": "code",
   "execution_count": 36,
   "metadata": {},
   "outputs": [
    {
     "data": {
      "text/plain": [
       "City\n",
       " Atlanta GA          2.795548e+06\n",
       " Austin TX           1.819614e+06\n",
       " Boston MA           3.661707e+06\n",
       " Dallas TX           2.768024e+06\n",
       " Los Angeles CA      5.452668e+06\n",
       " New York City NY    4.664400e+06\n",
       " Portland ME         4.497665e+05\n",
       " Portland OR         1.870765e+06\n",
       " San Francisco CA    8.262352e+06\n",
       " Seattle WA          2.747804e+06\n",
       "Name: Sale Value, dtype: float32"
      ]
     },
     "execution_count": 36,
     "metadata": {},
     "output_type": "execute_result"
    }
   ],
   "source": [
    "merged_data.groupby('City')['Sale Value'].sum()"
   ]
  }
 ],
 "metadata": {
  "kernelspec": {
   "display_name": "Python 3",
   "language": "python",
   "name": "python3"
  },
  "language_info": {
   "codemirror_mode": {
    "name": "ipython",
    "version": 3
   },
   "file_extension": ".py",
   "mimetype": "text/x-python",
   "name": "python",
   "nbconvert_exporter": "python",
   "pygments_lexer": "ipython3",
   "version": "3.10.12"
  },
  "orig_nbformat": 4
 },
 "nbformat": 4,
 "nbformat_minor": 2
}
